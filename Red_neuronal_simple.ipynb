{
  "nbformat": 4,
  "nbformat_minor": 0,
  "metadata": {
    "colab": {
      "provenance": [],
      "authorship_tag": "ABX9TyM7wlRtULAZYn7/seQQTryc",
      "include_colab_link": true
    },
    "kernelspec": {
      "name": "python3",
      "display_name": "Python 3"
    },
    "language_info": {
      "name": "python"
    }
  },
  "cells": [
    {
      "cell_type": "markdown",
      "metadata": {
        "id": "view-in-github",
        "colab_type": "text"
      },
      "source": [
        "<a href=\"https://colab.research.google.com/github/Berishten/Redes-neuronales/blob/main/Red_neuronal_simple.ipynb\" target=\"_parent\"><img src=\"https://colab.research.google.com/assets/colab-badge.svg\" alt=\"Open In Colab\"/></a>"
      ]
    },
    {
      "cell_type": "code",
      "source": [
        "import random\n",
        "random.seed(10)"
      ],
      "metadata": {
        "id": "RaSmXe1gG_Vf"
      },
      "execution_count": null,
      "outputs": []
    },
    {
      "cell_type": "code",
      "source": [
        "x = 2\n",
        "y = 4"
      ],
      "metadata": {
        "id": "_J-jhDXjHOZW"
      },
      "execution_count": null,
      "outputs": []
    },
    {
      "cell_type": "code",
      "source": [
        "w = random.random()\n",
        "b = random.random()"
      ],
      "metadata": {
        "id": "jU0yHF-aGvny"
      },
      "execution_count": null,
      "outputs": []
    },
    {
      "cell_type": "code",
      "execution_count": null,
      "metadata": {
        "id": "-8LikxviS1YT"
      },
      "outputs": [],
      "source": [
        "def pred(x):\n",
        "    return w*x+b\n",
        "\n",
        "def pred_gradient(x):\n",
        "    return x"
      ]
    },
    {
      "cell_type": "code",
      "source": [
        "# La predicción falla porque los parámetros inician aleatoriamente\n",
        "print(pred(2))"
      ],
      "metadata": {
        "colab": {
          "base_uri": "https://localhost:8080/"
        },
        "id": "pSdGOvn7HEz7",
        "outputId": "3c01b275-4ea8-4f4a-c4f5-33c27073149a"
      },
      "execution_count": null,
      "outputs": [
        {
          "output_type": "stream",
          "name": "stdout",
          "text": [
            "1.5716942440549415\n"
          ]
        }
      ]
    },
    {
      "cell_type": "code",
      "source": [
        "def mse(true_y, pred_y):\n",
        "    return (true_y - pred_y)**2\n",
        "\n",
        "def mse_gradient(y_pred, y_true):\n",
        "    return 2*(y_pred - y_true)"
      ],
      "metadata": {
        "id": "Nh6lffhsTS5E"
      },
      "execution_count": null,
      "outputs": []
    },
    {
      "cell_type": "code",
      "source": [
        "lr = 0.05\n",
        "umbral = 1e-6\n",
        "iteraciones = 100\n",
        "\n",
        "for i in range(iteraciones):\n",
        "  dw = mse_gradient(pred(x), y) * pred_gradient(x)\n",
        "  db = mse_gradient(pred(x), y)\n",
        "\n",
        "  w -= (dw * lr)\n",
        "  b -= (db * lr)\n",
        "\n",
        "  error = mse(y, pred(x))\n",
        "  if(error < umbral):\n",
        "    print(\"Iterations:\", i+1)\n",
        "    print(\"Pred:\", pred(x))\n",
        "    print(\"Error:\", error)\n",
        "    break"
      ],
      "metadata": {
        "colab": {
          "base_uri": "https://localhost:8080/"
        },
        "id": "kfRvU2n-MzSP",
        "outputId": "e9db082c-8eaf-4570-d4e1-990861e97a76"
      },
      "execution_count": null,
      "outputs": [
        {
          "output_type": "stream",
          "name": "stdout",
          "text": [
            "Iterations: 12\n",
            "Pred: 3.9994071519150522\n",
            "Error: 3.5146885182621486e-07\n"
          ]
        }
      ]
    }
  ]
}