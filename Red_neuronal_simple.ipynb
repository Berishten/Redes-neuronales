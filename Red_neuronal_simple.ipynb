{
  "cells": [
    {
      "cell_type": "markdown",
      "metadata": {
        "colab_type": "text",
        "id": "view-in-github"
      },
      "source": [
        "<a href=\"https://colab.research.google.com/github/Berishten/Redes-neuronales/blob/main/Red_neuronal_simple.ipynb\" target=\"_parent\"><img src=\"https://colab.research.google.com/assets/colab-badge.svg\" alt=\"Open In Colab\"/></a>"
      ]
    },
    {
      "cell_type": "code",
      "execution_count": null,
      "metadata": {
        "id": "RaSmXe1gG_Vf"
      },
      "outputs": [],
      "source": [
        "import random\n",
        "random.seed(10)"
      ]
    },
    {
      "cell_type": "code",
      "execution_count": null,
      "metadata": {
        "id": "_J-jhDXjHOZW"
      },
      "outputs": [],
      "source": [
        "x = 2\n",
        "y = 4"
      ]
    },
    {
      "cell_type": "code",
      "execution_count": null,
      "metadata": {
        "id": "jU0yHF-aGvny"
      },
      "outputs": [],
      "source": [
        "w = random.random()\n",
        "b = random.random()"
      ]
    },
    {
      "cell_type": "code",
      "execution_count": null,
      "metadata": {},
      "outputs": [],
      "source": [
        "def relu(x):\n",
        "    return max(0, x)\n",
        "\n",
        "def relu_gradient(x):\n",
        "    return 1 if x > 0 else 0"
      ]
    },
    {
      "cell_type": "code",
      "execution_count": null,
      "metadata": {
        "id": "-8LikxviS1YT"
      },
      "outputs": [],
      "source": [
        "def pred(x):\n",
        "    return w*x+b\n",
        "\n",
        "def pred_gradient(x):\n",
        "    return x"
      ]
    },
    {
      "cell_type": "code",
      "execution_count": null,
      "metadata": {
        "id": "Nh6lffhsTS5E"
      },
      "outputs": [],
      "source": [
        "def mse(true_y, pred_y):\n",
        "    return (true_y - pred_y)**2\n",
        "\n",
        "def mse_gradient(y_pred, y_true):\n",
        "    return 2*(y_pred - y_true)"
      ]
    },
    {
      "cell_type": "code",
      "execution_count": null,
      "metadata": {
        "colab": {
          "base_uri": "https://localhost:8080/"
        },
        "id": "kfRvU2n-MzSP",
        "outputId": "e9db082c-8eaf-4570-d4e1-990861e97a76"
      },
      "outputs": [
        {
          "name": "stdout",
          "output_type": "stream",
          "text": [
            "Iterations: 12\n",
            "Pred: 3.9994071519150522\n",
            "Error: 3.5146885182621486e-07\n"
          ]
        }
      ],
      "source": [
        "lr = 0.06\n",
        "umbral = 1e-6\n",
        "iteraciones = 100\n",
        "\n",
        "total_iteraciones = 0\n",
        "errores = []\n",
        "\n",
        "for i in range(iteraciones):\n",
        "  y_pred = relu(pred(x))\n",
        "  error = mse(y, y_pred)\n",
        "  \n",
        "  dw = mse_gradient(y_pred, y) * relu_gradient(pred(x)) * pred_gradient(x)\n",
        "  db = mse_gradient(y_pred, y) * relu_gradient(pred(x))\n",
        "\n",
        "  w -= (dw * lr)\n",
        "  b -= (db * lr)\n",
        "\n",
        "  total_iteraciones += 1\n",
        "  errores.append(error)\n",
        "\n",
        "  if error < umbral:\n",
        "    break\n",
        "\n",
        "for i in range(len(errores)):\n",
        "  print(errores[i])\n",
        "\n",
        "y_pred = relu(pred(x))\n",
        "error = mse(y, y_pred)\n",
        "print(\"\\nIterations:\", total_iteraciones)\n",
        "print(\"Pred:\", y_pred)\n",
        "print(\"Error:\", error)"
      ]
    }
  ],
  "metadata": {
    "colab": {
      "authorship_tag": "ABX9TyM7wlRtULAZYn7/seQQTryc",
      "include_colab_link": true,
      "provenance": []
    },
    "kernelspec": {
      "display_name": "Python 3",
      "name": "python3"
    },
    "language_info": {
      "name": "python"
    }
  },
  "nbformat": 4,
  "nbformat_minor": 0
}
