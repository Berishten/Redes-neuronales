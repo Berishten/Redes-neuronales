{
  "cells": [
    {
      "cell_type": "markdown",
      "metadata": {
        "colab_type": "text",
        "id": "view-in-github"
      },
      "source": [
        "<a href=\"https://colab.research.google.com/github/Berishten/Redes-neuronales/blob/main/RN_%2B_ReLU.ipynb\" target=\"_parent\"><img src=\"https://colab.research.google.com/assets/colab-badge.svg\" alt=\"Open In Colab\"/></a>"
      ]
    },
    {
      "cell_type": "code",
      "execution_count": 24,
      "metadata": {
        "id": "RaSmXe1gG_Vf"
      },
      "outputs": [],
      "source": [
        "import random\n",
        "random.seed(10)"
      ]
    },
    {
      "cell_type": "code",
      "execution_count": 25,
      "metadata": {
        "id": "_J-jhDXjHOZW"
      },
      "outputs": [],
      "source": [
        "x = 2\n",
        "y = 4"
      ]
    },
    {
      "cell_type": "code",
      "execution_count": 26,
      "metadata": {
        "id": "jU0yHF-aGvny"
      },
      "outputs": [],
      "source": [
        "w = random.random()\n",
        "b = random.random()"
      ]
    },
    {
      "cell_type": "code",
      "execution_count": 27,
      "metadata": {
        "id": "EnXAYVHYd0fI"
      },
      "outputs": [],
      "source": [
        "def relu(x):\n",
        "    return max(0, x)\n",
        "\n",
        "def relu_gradient(x):\n",
        "    return 1 if x > 0 else 0"
      ]
    },
    {
      "cell_type": "code",
      "execution_count": 28,
      "metadata": {
        "id": "-8LikxviS1YT"
      },
      "outputs": [],
      "source": [
        "def pred(x):\n",
        "    return w*x+b"
      ]
    },
    {
      "cell_type": "code",
      "execution_count": 29,
      "metadata": {
        "id": "Nh6lffhsTS5E"
      },
      "outputs": [],
      "source": [
        "def mse(true_y, pred_y):\n",
        "    return (true_y - pred_y)**2\n",
        "\n",
        "def mse_gradient(y_pred, y_true):\n",
        "    return 2*(y_pred - y_true)"
      ]
    },
    {
      "cell_type": "code",
      "execution_count": 30,
      "metadata": {
        "colab": {
          "base_uri": "https://localhost:8080/"
        },
        "id": "kfRvU2n-MzSP",
        "outputId": "fc6e1054-06f5-4153-dcbc-66e4af96b0da"
      },
      "outputs": [
        {
          "name": "stdout",
          "output_type": "stream",
          "text": [
            "Iterations: 10\n",
            "Pred: 3.9997453736863653\n",
            "Y: 4\n",
            "Error: 6.483455959520137e-08\n"
          ]
        }
      ],
      "source": [
        "lr = 0.06\n",
        "umbral = 1e-6\n",
        "iteraciones = 10000\n",
        "\n",
        "total_iteraciones = 0\n",
        "errores = []\n",
        "\n",
        "for i in range(iteraciones):\n",
        "  pred_y = pred(x)\n",
        "  y_pred = relu(pred_y)\n",
        "  error = mse(y, y_pred)\n",
        "\n",
        "  # Gradiente de la función de pérdida con respecto a la activación\n",
        "  dcost_dpred = mse_gradient(y_pred, y)\n",
        "  grad_mse_relu = dcost_dpred * relu_gradient(pred_y)\n",
        "  dz_dw = x\n",
        "  dz_db = 1\n",
        "\n",
        "  # Gradientes para w y b\n",
        "  dw = grad_mse_relu * dz_dw\n",
        "  db = grad_mse_relu * dz_db\n",
        "\n",
        "  # Actualización de los parámetros\n",
        "  w -= lr * dw\n",
        "  b -= lr * db\n",
        "\n",
        "  total_iteraciones += 1\n",
        "  errores.append(error)\n",
        "\n",
        "  if error < umbral:\n",
        "    break\n",
        "\n",
        "# for i in range(len(errores)):\n",
        "#   print(errores[i])\n",
        "\n",
        "y_pred = relu(pred(x))\n",
        "error = mse(y, y_pred)\n",
        "print(\"Iterations:\", total_iteraciones)\n",
        "print(\"Pred:\", y_pred)\n",
        "print(\"Y:\", y)\n",
        "print(\"Error:\", error)"
      ]
    }
  ],
  "metadata": {
    "colab": {
      "include_colab_link": true,
      "provenance": []
    },
    "kernelspec": {
      "display_name": "Python 3",
      "name": "python3"
    },
    "language_info": {
      "name": "python"
    }
  },
  "nbformat": 4,
  "nbformat_minor": 0
}
